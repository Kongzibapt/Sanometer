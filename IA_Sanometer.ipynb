{
 "cells": [
  {
   "cell_type": "code",
   "execution_count": 69,
   "id": "43d92c33",
   "metadata": {},
   "outputs": [
    {
     "name": "stdout",
     "output_type": "stream",
     "text": [
      "['N', 'Y', 'Y', 'Y', 'Y', 'Y', 'Y', 'N'] ['Y', 'N', 'N', 'N', 'Y', 'N', 'N', 'Y']\n",
      "features : \n",
      " ['Fasting Blood Sugar>1,26g/L (2 different times)', 'associated symptoms (thirsty/poliuria)', 'weightloss', 'Blood sugar >2g/L', 'tired', 'blurred vision']\n",
      "features res: \n",
      " ['il est recommandé de contrôler en urgence votre glycémie à jeun (min 8h). ', \" Il faut consulter d'urgence votre médecin traitant ou un diabétologue\"]\n",
      "[0, 1, 1, 1, 1, 1] [1, 0, 0, 0, 1, 0] [1, 0, 0, 0, 0, 0, 0, 0, 0, 0, 0, 0, 0, 0, 0, 0, 0, 0, 0, 0, 0, 0, 0, 0, 0, 0, 0, 0, 0] [0, 1, 0, 0, 0, 0, 0, 0, 0, 0, 0, 0, 0, 0, 0, 0, 0, 0, 0, 0, 0, 0, 0, 0, 0, 0, 0, 0, 0]\n"
     ]
    },
    {
     "data": {
      "text/plain": [
       "Text(0.5, 1.0, 'il est recommandé de contrôler en urgence votre glycémie à jeun (min 8h).')"
      ]
     },
     "execution_count": 69,
     "metadata": {},
     "output_type": "execute_result"
    },
    {
     "data": {
      "image/png": "[encoded data removed]",
      "text/plain": [
       "<Figure size 432x288 with 1 Axes>"
      ]
     },
     "metadata": {
      "needs_background": "light"
     },
     "output_type": "display_data"
    }
   ],
   "source": [
    "import pandas as pd\n",
    "from sklearn.model_selection import train_test_split\n",
    "from sklearn.neural_network import MLPRegressor\n",
    "from matplotlib import pyplot as plt\n",
    "\n",
    "df = pd.read_excel (r'patient_data.xlsx', sheet_name='Sheet6')\n",
    "raw_datas = df.values.tolist()\n",
    "print(raw_datas[0],raw_datas[1])\n",
    "\n",
    "features_list = list(df.to_dict().keys())[:-2] #avec -2 on exclue les résultats\n",
    "features_res_list = list(df.to_dict().keys())[-2:] \n",
    "print(\"features : \\n\", features_list)\n",
    "print(\"features res: \\n\", features_res_list)\n",
    "\n",
    "X=[]\n",
    "y=[]\n",
    "y_element1= []\n",
    "y_element2= []\n",
    "for j in range(len(raw_datas)):\n",
    "    X_element = []\n",
    "    \n",
    "    for i in range(len(raw_datas[0])):\n",
    "       \n",
    "        if (i<=len(raw_datas[0])-3):\n",
    "            ##on est dans les features\n",
    "            if (raw_datas[j][i]=='Y') :\n",
    "            \n",
    "                X_element.append(1)\n",
    "            else :\n",
    "                X_element.append(0)\n",
    "        elif (i==len(raw_datas[0])-2) :\n",
    "            if (raw_datas[j][i]=='Y') :\n",
    "            \n",
    "                y_element1.append(1)\n",
    "            else :\n",
    "                ##par défaut si on a pas de réponse je met 0 comme pour 'N'\n",
    "                y_element1.append(0)\n",
    "        elif (i==len(raw_datas[0])-1) :\n",
    "            if (raw_datas[j][i]=='Y') :\n",
    "\n",
    "                y_element2.append(1)\n",
    "            else :\n",
    "                ##par défaut si on a pas de réponse je met 0 comme pour 'N'\n",
    "                y_element2.append(0)\n",
    "    \n",
    "    X.append(X_element)  \n",
    "y.append(y_element1)  \n",
    "y.append(y_element2)\n",
    "print(X[0], X[1],y[0],y[1])       \n",
    "\n",
    "X_train, X_test, y_train, y_test = train_test_split(X, y[0],random_state=1, test_size = 0.20)\n",
    "mlp = MLPRegressor()\n",
    "mlp.fit(X_train, y_train)\n",
    "y_predict = mlp.predict(X_test)\n",
    "\n",
    "# Plot the results\n",
    "num_samples_to_plot = 20\n",
    "plt.plot(y_test[0:num_samples_to_plot], 'ro', label='y')\n",
    "plt.plot(y_predict[0:num_samples_to_plot], 'bx', label='$\\hat{y}$')\n",
    "plt.legend()\n",
    "plt.xlabel(\"Examples\")\n",
    "plt.ylabel(\"f(examples)\")\n",
    "plt.title (\"il est recommandé de contrôler en urgence votre glycémie à jeun (min 8h).\")\n"
   ]
  },
  {
   "cell_type": "code",
   "execution_count": 68,
   "id": "c1131dde",
   "metadata": {},
   "outputs": [
    {
     "name": "stdout",
     "output_type": "stream",
     "text": [
      "[0, 0, 0, 0, 0, 0] [0.34245823 0.05971604 0.21345985 0.18184681 0.14867116 0.10520787]\n"
     ]
    },
    {
     "data": {
      "text/plain": [
       "Text(0.5, 1.0, \"Il faut consulter d'urgence votre médecin traitant ou un diabétologue\")"
      ]
     },
     "execution_count": 68,
     "metadata": {},
     "output_type": "execute_result"
    },
    {
     "data": {
      "image/png": "[encoded data removed]",
      "text/plain": [
       "<Figure size 432x288 with 1 Axes>"
      ]
     },
     "metadata": {
      "needs_background": "light"
     },
     "output_type": "display_data"
    }
   ],
   "source": [
    "X_train, X_test, y_train, y_test = train_test_split(X, y[1],random_state=1, test_size = 0.20)\n",
    "mlp = MLPRegressor()\n",
    "mlp.fit(X_train, y_train)\n",
    "y_predict = mlp.predict(X_test)\n",
    "\n",
    "# Plot the results\n",
    "num_samples_to_plot = 20\n",
    "plt.plot(y_test[0:num_samples_to_plot], 'ro', label='y')\n",
    "plt.plot(y_predict[0:num_samples_to_plot], 'bx', label='$\\hat{y}$')\n",
    "plt.legend()\n",
    "print(y_test, y_predict)\n",
    "plt.xlabel(\"Examples\")\n",
    "plt.ylabel(\"f(examples)\")\n",
    "plt.title (\"Il faut consulter d'urgence votre médecin traitant ou un diabétologue\")"
   ]
  },
  {
   "cell_type": "code",
   "execution_count": 67,
   "id": "155104d0",
   "metadata": {},
   "outputs": [
    {
     "name": "stdout",
     "output_type": "stream",
     "text": [
      "[0.03003365]\n"
     ]
    }
   ],
   "source": [
    "##test d'une prédiction sur un nouveau X\n",
    "y_predict = mlp.predict([[0, 0, 1, 0, 1, 1]])\n",
    "print(y_predict)"
   ]
  },
  {
   "cell_type": "code",
   "execution_count": null,
   "id": "c69e7b71",
   "metadata": {},
   "outputs": [],
   "source": []
  }
 ],
 "metadata": {
  "kernelspec": {
   "display_name": "Python 3 (ipykernel)",
   "language": "python",
   "name": "python3"
  },
  "language_info": {
   "codemirror_mode": {
    "name": "ipython",
    "version": 3
   },
   "file_extension": ".py",
   "mimetype": "text/x-python",
   "name": "python",
   "nbconvert_exporter": "python",
   "pygments_lexer": "ipython3",
   "version": "3.8.8"
  }
 },
 "nbformat": 4,
 "nbformat_minor": 5
}
