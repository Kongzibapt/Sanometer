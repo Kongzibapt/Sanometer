{
 "cells": [
  {
   "cell_type": "markdown",
   "id": "cd1a5dac",
   "metadata": {},
   "source": [
    "Importation des modules"
   ]
  },
  {
   "cell_type": "code",
   "execution_count": 109,
   "id": "a32eaa7e",
   "metadata": {},
   "outputs": [],
   "source": [
    "import pandas as pd\n",
    "from sklearn.model_selection import train_test_split\n",
    "from sklearn.neural_network import MLPRegressor\n",
    "from matplotlib import pyplot as plt\n",
    "from sklearn import model_selection\n",
    "from sklearn import tree"
   ]
  },
  {
   "cell_type": "markdown",
   "id": "822a611d",
   "metadata": {},
   "source": [
    "Chargement des datas et des features depuis l'excel"
   ]
  },
  {
   "cell_type": "code",
   "execution_count": null,
   "id": "7cdaa460",
   "metadata": {},
   "outputs": [],
   "source": [
    "df = pd.read_excel (r'patient_data.xlsx', sheet_name='Sheet6')\n",
    "raw_datas = df.values.tolist()\n",
    "print(raw_datas[0],raw_datas[1])\n",
    "\n",
    "features_list = list(df.to_dict().keys())[:-2] #avec -2 on exclue les résultats\n",
    "features_res_list = list(df.to_dict().keys())[-2:] \n",
    "print(\"features : \\n\", features_list)\n",
    "print(\"features res: \\n\", features_res_list)"
   ]
  },
  {
   "cell_type": "markdown",
   "id": "f9700afb",
   "metadata": {},
   "source": [
    "Mise en forme des listes X (données entrantes patients) et y (résultats en sortie)"
   ]
  },
  {
   "cell_type": "code",
   "execution_count": 88,
   "id": "36abd451",
   "metadata": {},
   "outputs": [],
   "source": [
    "X=[]\n",
    "y=[]\n",
    "y_element1= []\n",
    "y_element2= []\n",
    "for j in range(len(raw_datas)):\n",
    "    X_element = []\n",
    "    \n",
    "    for i in range(len(raw_datas[0])):\n",
    "       \n",
    "        if (i<=len(raw_datas[0])-3):\n",
    "            ##on est dans les features\n",
    "            if (raw_datas[j][i]=='Y') :\n",
    "            \n",
    "                X_element.append(1)\n",
    "            else :\n",
    "                X_element.append(0)\n",
    "        elif (i==len(raw_datas[0])-2) :\n",
    "            if (raw_datas[j][i]=='Y') :\n",
    "            \n",
    "                y_element1.append(1)\n",
    "            else :\n",
    "                ##par défaut si on a pas de réponse je met 0 comme pour 'N'\n",
    "                y_element1.append(0)\n",
    "        elif (i==len(raw_datas[0])-1) :\n",
    "            if (raw_datas[j][i]=='Y') :\n",
    "\n",
    "                y_element2.append(1)\n",
    "            else :\n",
    "                ##par défaut si on a pas de réponse je met 0 comme pour 'N'\n",
    "                y_element2.append(0)\n",
    "    \n",
    "    X.append(X_element)  \n",
    "y.append(y_element1)  \n",
    "y.append(y_element2)\n",
    "#print(X[0], X[1],y[0],y[1])       "
   ]
  },
  {
   "cell_type": "markdown",
   "id": "4d555a44",
   "metadata": {},
   "source": [
    "Test de prediction sur du binaire pour la première colonne de résultat"
   ]
  },
  {
   "cell_type": "code",
   "execution_count": 92,
   "id": "60d9633a",
   "metadata": {},
   "outputs": [
    {
     "name": "stdout",
     "output_type": "stream",
     "text": [
      "[0]\n"
     ]
    }
   ],
   "source": [
    "X_train, X_test, y_train, y_test = train_test_split(X, y[0],random_state=1, test_size = 0.20)\n",
    "clf = tree.DecisionTreeClassifier()\n",
    "clf = clf.fit(X_train, y_train)\n",
    "y_pred = clf.predict(X_test)\n",
    "#print(y_pred, y_test)\n",
    "\n",
    "#test de prediction sur un X quelconque\n",
    "y_predict = clf.predict([[0, 0, 0, 0, 0, 0]])\n",
    "print(y_predict)"
   ]
  },
  {
   "cell_type": "markdown",
   "id": "7a83cada",
   "metadata": {},
   "source": [
    "Test de prédiction sur la 1ère colonne avec MLP (non binaire)"
   ]
  },
  {
   "cell_type": "code",
   "execution_count": 93,
   "id": "20bdd5f0",
   "metadata": {},
   "outputs": [
    {
     "data": {
      "text/plain": [
       "Text(0.5, 1.0, 'il est recommandé de contrôler en urgence votre glycémie à jeun (min 8h).')"
      ]
     },
     "execution_count": 93,
     "metadata": {},
     "output_type": "execute_result"
    },
    {
     "data": {
      "image/png": "[encoded data removed]",
      "text/plain": [
       "<Figure size 432x288 with 1 Axes>"
      ]
     },
     "metadata": {
      "needs_background": "light"
     },
     "output_type": "display_data"
    }
   ],
   "source": [
    "X_train, X_test, y_train, y_test = train_test_split(X, y[0],random_state=1, test_size = 0.20)\n",
    "mlp = MLPRegressor()\n",
    "mlp.fit(X_train, y_train)\n",
    "y_predict = mlp.predict(X_test)\n",
    "\n",
    "# Plot the results\n",
    "num_samples_to_plot = 20\n",
    "plt.plot(y_test[0:num_samples_to_plot], 'ro', label='y')\n",
    "plt.plot(y_predict[0:num_samples_to_plot], 'bx', label='$\\hat{y}$')\n",
    "plt.legend()\n",
    "plt.xlabel(\"Examples\")\n",
    "plt.ylabel(\"f(examples)\")\n",
    "plt.title (\"il est recommandé de contrôler en urgence votre glycémie à jeun (min 8h).\")"
   ]
  },
  {
   "cell_type": "markdown",
   "id": "e1b47f51",
   "metadata": {},
   "source": [
    "Test de prédiction sur la 2ème colonne avec MLP"
   ]
  },
  {
   "cell_type": "code",
   "execution_count": 94,
   "id": "c635616e",
   "metadata": {},
   "outputs": [
    {
     "name": "stdout",
     "output_type": "stream",
     "text": [
      "[0, 0, 0, 0, 0, 0] [-0.0728677   0.18499355  0.02778824 -0.02409479  0.03896142 -0.01511771]\n"
     ]
    },
    {
     "data": {
      "text/plain": [
       "Text(0.5, 1.0, \"Il faut consulter d'urgence votre médecin traitant ou un diabétologue\")"
      ]
     },
     "execution_count": 94,
     "metadata": {},
     "output_type": "execute_result"
    },
    {
     "data": {
      "image/png": "[encoded data removed]",
      "text/plain": [
       "<Figure size 432x288 with 1 Axes>"
      ]
     },
     "metadata": {
      "needs_background": "light"
     },
     "output_type": "display_data"
    }
   ],
   "source": [
    "X_train, X_test, y_train, y_test = train_test_split(X, y[1],random_state=1, test_size = 0.20)\n",
    "mlp = MLPRegressor()\n",
    "mlp.fit(X_train, y_train)\n",
    "y_predict = mlp.predict(X_test)\n",
    "\n",
    "# Plot the results\n",
    "num_samples_to_plot = 20\n",
    "plt.plot(y_test[0:num_samples_to_plot], 'ro', label='y')\n",
    "plt.plot(y_predict[0:num_samples_to_plot], 'bx', label='$\\hat{y}$')\n",
    "plt.legend()\n",
    "print(y_test, y_predict)\n",
    "plt.xlabel(\"Examples\")\n",
    "plt.ylabel(\"f(examples)\")\n",
    "plt.title (\"Il faut consulter d'urgence votre médecin traitant ou un diabétologue\")"
   ]
  },
  {
   "cell_type": "code",
   "execution_count": 67,
   "id": "90891230",
   "metadata": {},
   "outputs": [
    {
     "name": "stdout",
     "output_type": "stream",
     "text": [
      "[0.03003365]\n"
     ]
    }
   ],
   "source": [
    "##test d'une prédiction sur un nouveau X\n",
    "y_predict = mlp.predict([[0, 0, 1, 0, 1, 1]])\n",
    "print(y_predict)"
   ]
  },
  {
   "cell_type": "code",
   "execution_count": 103,
   "id": "0fcb4654",
   "metadata": {},
   "outputs": [
    {
     "name": "stdout",
     "output_type": "stream",
     "text": [
      "['M', 56, 'Fr', 'white', 'urban>1 milion', 'plane', 'professional school', 5, 'no', 'N'] ['M', 47, 'Fr', 'white', '<100 000', 'hills', 'high school', 7, 'no', 'N']\n",
      "features : \n",
      " ['sex', 'age', 'country of birth', 'race', 'place of living (aggomeration) ', 'geographie of living place', 'profession (studies)', 'Berg scale (profession)', 'recent change of professional field']\n",
      "features res: \n",
      " ['It is recommended to have a screening for cervical (uterin) cancer every 3 years with cervical cytology test ']\n"
     ]
    }
   ],
   "source": [
    "df = pd.read_excel (r'patient_data.xlsx', sheet_name='Sheet1')\n",
    "raw_datas = df.values.tolist()\n",
    "print(raw_datas[0],raw_datas[1])\n",
    "\n",
    "features_list = list(df.to_dict().keys())[:-1] \n",
    "features_res_list = list(df.to_dict().keys())[-1:] \n",
    "print(\"features : \\n\", features_list)\n",
    "print(\"features res: \\n\", features_res_list)"
   ]
  },
  {
   "cell_type": "code",
   "execution_count": 120,
   "id": "7e17ff5c",
   "metadata": {},
   "outputs": [
    {
     "name": "stdout",
     "output_type": "stream",
     "text": [
      "[[0, 0, 0, 0, 0, 0, 0, 0, 0], [0, 1, 0, 0, 1, 1, 1, 1, 0], [1, 2, 0, 0, 2, 2, 2, 2, 1], [0, 3, 0, 0, 1, 0, 2, 0, 1], [1, 4, 0, 0, 3, 0, 3, 2, 1], [1, 5, 0, 0, 1, 1, 0, 1, 2], [1, 6, 0, 0, 3, 2, 3, 3, 2], [1, 7, 0, 0, 3, 0, 2, 2, 2], [0, 8, 0, 0, 4, 2, 0, 0, 1], [0, 9, 1, 1, 4, 0, 2, 2, 1], [1, 10, 1, 1, 3, 2, 1, 4, 2], [1, 11, 1, 1, 1, 2, 1, 0, 1], [1, 7, 1, 1, 4, 0, 2, 5, 1], [0, 12, 2, 1, 3, 2, 3, 5, 1], [0, 0, 0, 0, 0, 0, 0, 0, 0], [0, 1, 0, 0, 1, 1, 1, 1, 0], [1, 2, 0, 0, 2, 2, 2, 2, 1], [0, 3, 0, 0, 1, 0, 2, 0, 1], [1, 4, 0, 0, 3, 0, 3, 2, 1], [1, 5, 0, 0, 1, 1, 0, 1, 2], [1, 6, 0, 0, 3, 2, 3, 3, 2], [1, 7, 0, 0, 3, 0, 2, 2, 2], [0, 8, 0, 0, 4, 2, 0, 0, 1], [0, 9, 1, 1, 4, 0, 2, 2, 1], [1, 10, 1, 1, 3, 2, 1, 4, 2], [1, 11, 1, 1, 1, 2, 1, 0, 1], [1, 7, 1, 1, 4, 0, 2, 5, 1], [0, 12, 2, 1, 3, 2, 3, 5, 1], [0, 13, 3, 2, 3, 0, 0, 1, 1]] [0, 0, 0, 0, 0, 1, 0, 0, 0, 0, 0, 0, 0, 0, 0, 0, 0, 0, 0, 1, 0, 0, 0, 0, 0, 0, 0, 0, 0]\n"
     ]
    }
   ],
   "source": [
    "X=[]\n",
    "y=[]\n",
    "poss_list = {}\n",
    "cnt_list = [0]*len(raw_datas[0])\n",
    "\n",
    "for j in range(len(raw_datas)):\n",
    "    X_element = []\n",
    "    \n",
    "    for i in range(len(raw_datas[0])):\n",
    "           \n",
    "        if (i<=len(raw_datas[0])-2):\n",
    "            ##on est dans les features\n",
    "            if (raw_datas[j][i] in poss_list.keys()) :\n",
    "                X_element.append(poss_list.get(raw_datas[j][i]))\n",
    "            else :\n",
    "                \n",
    "                poss_list[raw_datas[j][i]]=cnt_list[i]\n",
    "                X_element.append(cnt_list[i])\n",
    "                cnt_list[i]+=1\n",
    "                \n",
    "        elif (i==len(raw_datas[0])-1) :\n",
    "            if (raw_datas[j][i]=='Y') :\n",
    "            \n",
    "                y.append(1)\n",
    "            else :\n",
    "                ##par défaut si on a pas de réponse je met 0 comme pour 'N'\n",
    "                y.append(0)\n",
    "        \n",
    "    \n",
    "    X.append(X_element)   \n",
    "\n",
    "\n",
    "print(X,y)"
   ]
  },
  {
   "cell_type": "code",
   "execution_count": 121,
   "id": "53101108",
   "metadata": {},
   "outputs": [
    {
     "name": "stdout",
     "output_type": "stream",
     "text": [
      "[[0, 0, 0, 0, 0, 0, 0, 0, 0], [0, 1, 0, 0, 1, 1, 1, 1, 0], [1, 2, 0, 0, 2, 2, 2, 2, 1], [0, 3, 0, 0, 1, 0, 2, 0, 1], [1, 4, 0, 0, 3, 0, 3, 2, 1], [1, 5, 0, 0, 1, 1, 0, 1, 2], [1, 6, 0, 0, 3, 2, 3, 3, 2], [1, 7, 0, 0, 3, 0, 2, 2, 2], [0, 8, 0, 0, 4, 2, 0, 0, 1], [0, 9, 1, 1, 4, 0, 2, 2, 1], [1, 10, 1, 1, 3, 2, 1, 4, 2], [1, 11, 1, 1, 1, 2, 1, 0, 1], [1, 7, 1, 1, 4, 0, 2, 5, 1], [0, 12, 2, 1, 3, 2, 3, 5, 1], [0, 0, 0, 0, 0, 0, 0, 0, 0], [0, 1, 0, 0, 1, 1, 1, 1, 0], [1, 2, 0, 0, 2, 2, 2, 2, 1], [0, 3, 0, 0, 1, 0, 2, 0, 1], [1, 4, 0, 0, 3, 0, 3, 2, 1], [1, 5, 0, 0, 1, 1, 0, 1, 2], [1, 6, 0, 0, 3, 2, 3, 3, 2], [1, 7, 0, 0, 3, 0, 2, 2, 2], [0, 8, 0, 0, 4, 2, 0, 0, 1], [0, 9, 1, 1, 4, 0, 2, 2, 1], [1, 10, 1, 1, 3, 2, 1, 4, 2], [1, 11, 1, 1, 1, 2, 1, 0, 1], [1, 7, 1, 1, 4, 0, 2, 5, 1], [0, 12, 2, 1, 3, 2, 3, 5, 1], [0, 13, 3, 2, 3, 0, 0, 1, 1]] [0, 0, 0, 0, 0, 1, 0, 0, 0, 0, 0, 0, 0, 0, 0, 0, 0, 0, 0, 1, 0, 0, 0, 0, 0, 0, 0, 0, 0]\n",
      "[0, 0, 0, 0, 0, 1] [ 0.01816939  0.2106073  -0.10272406  0.0055051   0.05312346  0.62835554]\n"
     ]
    },
    {
     "data": {
      "text/plain": [
       "Text(0.5, 1.0, 'It is recommended to have a screening for cervical (uterin) cancer every 3 years with cervical cytology test ')"
      ]
     },
     "execution_count": 121,
     "metadata": {},
     "output_type": "execute_result"
    },
    {
     "data": {
      "image/png": "[encoded data removed]",
      "text/plain": [
       "<Figure size 432x288 with 1 Axes>"
      ]
     },
     "metadata": {
      "needs_background": "light"
     },
     "output_type": "display_data"
    }
   ],
   "source": [
    "print(X,y)\n",
    "X_train, X_test, y_train, y_test = train_test_split(X, y,random_state=1, test_size = 0.20)\n",
    "\n",
    "mlp = MLPRegressor()\n",
    "mlp.fit(X_train, y_train)\n",
    "y_predict = mlp.predict(X_test)\n",
    "\n",
    "# Plot the results\n",
    "num_samples_to_plot = 20\n",
    "plt.plot(y_test[0:num_samples_to_plot], 'ro', label='y')\n",
    "plt.plot(y_predict[0:num_samples_to_plot], 'bx', label='$\\hat{y}$')\n",
    "plt.legend()\n",
    "print(y_test, y_predict)\n",
    "plt.xlabel(\"Examples\")\n",
    "plt.ylabel(\"f(examples)\")\n",
    "plt.title (\"It is recommended to have a screening for cervical (uterin) cancer every 3 years with cervical cytology test \")"
   ]
  },
  {
   "cell_type": "code",
   "execution_count": null,
   "id": "8e213748",
   "metadata": {},
   "outputs": [],
   "source": []
  }
 ],
 "metadata": {
  "kernelspec": {
   "display_name": "Python 3 (ipykernel)",
   "language": "python",
   "name": "python3"
  },
  "language_info": {
   "codemirror_mode": {
    "name": "ipython",
    "version": 3
   },
   "file_extension": ".py",
   "mimetype": "text/x-python",
   "name": "python",
   "nbconvert_exporter": "python",
   "pygments_lexer": "ipython3",
   "version": "3.8.8"
  }
 },
 "nbformat": 4,
 "nbformat_minor": 5
}
