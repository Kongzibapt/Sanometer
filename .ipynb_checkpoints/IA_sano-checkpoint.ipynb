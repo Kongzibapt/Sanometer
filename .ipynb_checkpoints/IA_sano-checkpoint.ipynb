{
 "cells": [
  {
   "cell_type": "markdown",
   "id": "cd1a5dac",
   "metadata": {},
   "source": [
    "Importation des modules"
   ]
  },
  {
   "cell_type": "code",
   "execution_count": 2,
   "id": "a32eaa7e",
   "metadata": {},
   "outputs": [],
   "source": [
    "import pandas as pd\n",
    "from sklearn.model_selection import train_test_split\n",
    "from sklearn.neural_network import MLPRegressor\n",
    "from matplotlib import pyplot as plt\n",
    "from sklearn import model_selection\n",
    "from sklearn import tree"
   ]
  },
  {
   "cell_type": "markdown",
   "id": "822a611d",
   "metadata": {},
   "source": [
    "Chargement des datas et des features depuis l'excel"
   ]
  },
  {
   "cell_type": "code",
   "execution_count": 14,
   "id": "7cdaa460",
   "metadata": {},
   "outputs": [
    {
     "name": "stdout",
     "output_type": "stream",
     "text": [
      "forme de chaque data :  ['N', 'Y', 'Y', 'Y', 'Y', 'Y', 'Y', 'N', 'N']\n",
      "features :  ['Fasting Blood Sugar>1,26g/L (2 different times)', 'associated symptoms (thirsty/poliuria)', 'weightloss', 'Blood sugar >2g/L', 'tired', 'blurred vision']\n",
      "features du resultat :  ['It is recommended to have a fasting blood sugar level control urgently ', ' It is highly recommended to have a medical advise in max 10 days', 'It is recommended to have an A1c blood test']\n"
     ]
    }
   ],
   "source": [
    "df = pd.read_excel (r'patient_data.xlsx', sheet_name='Sheet6')\n",
    "raw_datas = df.values.tolist()\n",
    "print(\"forme de chaque data : \",raw_datas[0])\n",
    "\n",
    "features_list = list(df.to_dict().keys())[:-3] #avec -3 on exclue les résultats\n",
    "features_res_list = list(df.to_dict().keys())[-3:] \n",
    "print(\"features : \", features_list)\n",
    "print(\"features du resultat : \", features_res_list)\n",
    "\n",
    "def analyseRes(y_predic):\n",
    "    y_new = []\n",
    "    for i in range(len(y_predict)):\n",
    "        if (y_predict[i]>=0.5):\n",
    "            y_new.append(1)\n",
    "        else :\n",
    "            y_new.append(0)\n",
    "    return y_new\n"
   ]
  },
  {
   "cell_type": "markdown",
   "id": "f9700afb",
   "metadata": {},
   "source": [
    "Mise en forme des listes X (données entrantes patients) et y (résultats en sortie)"
   ]
  },
  {
   "cell_type": "code",
   "execution_count": 17,
   "id": "36abd451",
   "metadata": {},
   "outputs": [
    {
     "name": "stdout",
     "output_type": "stream",
     "text": [
      "[[1, 0, 0, 0, 0, 0, 0, 0, 0, 0, 0, 0, 0, 0, 1, 0, 0, 0, 0, 0, 0, 0, 0, 0, 0, 0, 0, 0, 0], [0, 1, 1, 0, 0, 1, 1, 1, 0, 1, 1, 1, 0, 0, 0, 1, 1, 0, 0, 1, 1, 1, 0, 1, 1, 1, 0, 0, 0], [0, 1, 1, 0, 0, 1, 1, 1, 0, 1, 1, 1, 0, 0, 0, 1, 1, 0, 0, 1, 1, 1, 0, 1, 1, 1, 0, 0, 0]]\n"
     ]
    }
   ],
   "source": [
    "X=[]\n",
    "y=[]\n",
    "y_element1= []\n",
    "y_element2= []\n",
    "y_element3= []\n",
    "for j in range(len(raw_datas)):\n",
    "    X_element = []\n",
    "   \n",
    "    for i in range(len(raw_datas[0])):\n",
    "        \n",
    "        if (i<=len(raw_datas[0])-4):\n",
    "            ##on est dans les features\n",
    "            if (raw_datas[j][i]=='Y') :\n",
    "            \n",
    "                X_element.append(1)\n",
    "            else :\n",
    "                X_element.append(0)\n",
    "        elif (i==len(raw_datas[0])-3) :\n",
    "            if (raw_datas[j][i]=='Y') :\n",
    "            \n",
    "                y_element1.append(1)\n",
    "            else :\n",
    "                ##par défaut si on a pas de réponse je met 0 comme pour 'N'\n",
    "                y_element1.append(0)\n",
    "        elif (i==len(raw_datas[0])-2) :\n",
    "            if (raw_datas[j][i]=='Y') :\n",
    "\n",
    "                y_element2.append(1)\n",
    "            else :\n",
    "                ##par défaut si on a pas de réponse je met 0 comme pour 'N'\n",
    "                y_element2.append(0)\n",
    "        elif (i==len(raw_datas[0])-1) :\n",
    "            if (raw_datas[j][i]=='Y') :\n",
    "\n",
    "                y_element3.append(1)\n",
    "            else :\n",
    "                ##par défaut si on a pas de réponse je met 0 comme pour 'N'\n",
    "                y_element3.append(0)\n",
    "    \n",
    "    X.append(X_element)  \n",
    "\n",
    "y.append(y_element1)\n",
    "y.append(y_element2)\n",
    "y.append(y_element3)\n",
    "#print(X[0], X[1],y[0],y[1])     \n",
    "print(y)"
   ]
  },
  {
   "cell_type": "markdown",
   "id": "4d555a44",
   "metadata": {},
   "source": [
    "Test de prediction sur du binaire pour la première colonne de résultat"
   ]
  },
  {
   "cell_type": "code",
   "execution_count": 18,
   "id": "60d9633a",
   "metadata": {},
   "outputs": [
    {
     "name": "stdout",
     "output_type": "stream",
     "text": [
      "y prédit :  [1 0 0 0 0 0] , y de réf :  [1, 0, 0, 0, 0, 0]\n"
     ]
    }
   ],
   "source": [
    "X_train, X_test, y_train, y_test = train_test_split(X, y[0],random_state=1, test_size = 0.20)\n",
    "clf = tree.DecisionTreeClassifier()\n",
    "clf = clf.fit(X_train, y_train)\n",
    "y_pred = clf.predict(X_test)\n",
    "print(\"y prédit : \" , y_pred ,\", y de réf : \", y_test)\n",
    "\n",
    "#test de prediction sur un X quelconque\n",
    "y_predict = clf.predict([[0, 0, 0, 0, 0, 0]])\n",
    "#print(y_predict)"
   ]
  },
  {
   "cell_type": "markdown",
   "id": "7a83cada",
   "metadata": {},
   "source": [
    "Test de prédiction sur la 1ère colonne avec MLP (non binaire)"
   ]
  },
  {
   "cell_type": "code",
   "execution_count": 19,
   "id": "20bdd5f0",
   "metadata": {},
   "outputs": [
    {
     "name": "stdout",
     "output_type": "stream",
     "text": [
      "[ 0.6574513  -0.02344226  0.03679511 -0.04973003  0.01779899  0.09407965] [1, 0, 0, 0, 0, 0]\n"
     ]
    },
    {
     "data": {
      "text/plain": [
       "Text(0.5, 1.0, 'It is recommended to have a fasting blood sugar level control urgently')"
      ]
     },
     "execution_count": 19,
     "metadata": {},
     "output_type": "execute_result"
    },
    {
     "data": {
      "image/png": "[encoded data removed]",
      "text/plain": [
       "<Figure size 432x288 with 1 Axes>"
      ]
     },
     "metadata": {
      "needs_background": "light"
     },
     "output_type": "display_data"
    }
   ],
   "source": [
    "# Marche pas très bien pour des résultats binaires\n",
    "\n",
    "X_train, X_test, y_train, y_test = train_test_split(X, y[0],random_state=1, test_size = 0.20)\n",
    "mlp = MLPRegressor()\n",
    "mlp.fit(X_train, y_train)\n",
    "y_predict = mlp.predict(X_test)\n",
    "print(y_predict,y_test)\n",
    "\n",
    "# Plot the results\n",
    "num_samples_to_plot = 20\n",
    "plt.plot(y_test[0:num_samples_to_plot], 'ro', label='y')\n",
    "plt.plot(y_predict[0:num_samples_to_plot], 'bx', label='$\\hat{y}$')\n",
    "\n",
    "plt.legend()\n",
    "plt.xlabel(\"Examples\")\n",
    "plt.ylabel(\"f(examples)\")\n",
    "plt.title (\"It is recommended to have a fasting blood sugar level control urgently\")"
   ]
  },
  {
   "cell_type": "markdown",
   "id": "e1b47f51",
   "metadata": {},
   "source": [
    "Test de prédiction sur la 2ème colonne avec MLP"
   ]
  },
  {
   "cell_type": "code",
   "execution_count": 20,
   "id": "c635616e",
   "metadata": {},
   "outputs": [
    {
     "name": "stdout",
     "output_type": "stream",
     "text": [
      "y test :  [0, 1, 0, 1, 1, 1] ,y pred :  [0, 1, 0, 1, 1, 1] [0.19070212 0.95631741 0.09824801 0.96337658 1.06225277 0.93140514]\n"
     ]
    },
    {
     "data": {
      "text/plain": [
       "Text(0.5, 1.0, ' It is highly recommended to have a medical advise in max 10 days')"
      ]
     },
     "execution_count": 20,
     "metadata": {},
     "output_type": "execute_result"
    },
    {
     "data": {
      "image/png": "[encoded data removed]",
      "text/plain": [
       "<Figure size 432x288 with 1 Axes>"
      ]
     },
     "metadata": {
      "needs_background": "light"
     },
     "output_type": "display_data"
    }
   ],
   "source": [
    "X_train, X_test, y_train, y_test = train_test_split(X, y[1],random_state=1, test_size = 0.20)\n",
    "mlp = MLPRegressor()\n",
    "mlp.fit(X_train, y_train)\n",
    "y_predict = mlp.predict(X_test)\n",
    "\n",
    "# Plot the results\n",
    "num_samples_to_plot = 20\n",
    "plt.plot(y_test[0:num_samples_to_plot], 'ro', label='y')\n",
    "plt.plot(y_predict[0:num_samples_to_plot], 'bx', label='$\\hat{y}$')\n",
    "plt.legend()\n",
    "print(\"y test : \",y_test, \",y pred : \", analyseRes(y_predict), y_predict)\n",
    "plt.xlabel(\"Examples\")\n",
    "plt.ylabel(\"f(examples)\")\n",
    "plt.title (\" It is highly recommended to have a medical advise in max 10 days\")"
   ]
  },
  {
   "cell_type": "code",
   "execution_count": 21,
   "id": "63b58e94",
   "metadata": {},
   "outputs": [
    {
     "name": "stdout",
     "output_type": "stream",
     "text": [
      "y test :  [0, 1, 0, 1, 1, 1] ,y pred :  [0, 1, 0, 1, 1, 1] [0.07130444 0.946664   0.0834237  1.02099991 1.04843143 0.97460909]\n"
     ]
    },
    {
     "data": {
      "text/plain": [
       "Text(0.5, 1.0, 'It is recommended to have an A1c blood test')"
      ]
     },
     "execution_count": 21,
     "metadata": {},
     "output_type": "execute_result"
    },
    {
     "data": {
      "image/png": "[encoded data removed]",
      "text/plain": [
       "<Figure size 432x288 with 1 Axes>"
      ]
     },
     "metadata": {
      "needs_background": "light"
     },
     "output_type": "display_data"
    }
   ],
   "source": [
    "X_train, X_test, y_train, y_test = train_test_split(X, y[2],random_state=1, test_size = 0.20)\n",
    "mlp = MLPRegressor()\n",
    "mlp.fit(X_train, y_train)\n",
    "y_predict = mlp.predict(X_test)\n",
    "\n",
    "# Plot the results\n",
    "num_samples_to_plot = 20\n",
    "plt.plot(y_test[0:num_samples_to_plot], 'ro', label='y')\n",
    "plt.plot(y_predict[0:num_samples_to_plot], 'bx', label='$\\hat{y}$')\n",
    "plt.legend()\n",
    "print(\"y test : \",y_test, \",y pred : \", analyseRes(y_predict), y_predict)\n",
    "plt.xlabel(\"Examples\")\n",
    "plt.ylabel(\"f(examples)\")\n",
    "plt.title (\"It is recommended to have an A1c blood test\")"
   ]
  },
  {
   "cell_type": "code",
   "execution_count": 22,
   "id": "90891230",
   "metadata": {},
   "outputs": [
    {
     "name": "stdout",
     "output_type": "stream",
     "text": [
      "[0]\n"
     ]
    }
   ],
   "source": [
    "##test d'une prédiction sur un nouveau X\n",
    "y_predict = mlp.predict([[0, 0, 1, 0, 1, 1]])\n",
    "print(analyseRes(y_predict))"
   ]
  },
  {
   "cell_type": "code",
   "execution_count": 23,
   "id": "0fcb4654",
   "metadata": {},
   "outputs": [
    {
     "name": "stdout",
     "output_type": "stream",
     "text": [
      "['M', 56, 'Fr', 'white', 'urban>1 milion', 'plane', 'professional school', 5, 'no', 'N', 'N', 'N', 'Y', 'N'] ['M', 47, 'Fr', 'white', '<100 000', 'hills', 'high school', 7, 'no', 'N', 'N', 'N', 'N', 'N']\n",
      "features : \n",
      " ['sex', 'age', 'country of birth', 'race', 'place of living (aggomeration) ', 'geographie of living place', 'profession (studies)', 'Berg scale (profession)', 'recent change of professional field']\n",
      "features res: \n",
      " ['It is recommended to have a screening test for cervical (uterin) cancer every 3 years with cervical cytology test ', 'It is recommended to have a screening test every 3 years wit cervical cytology test alone', 'it is recommended to have a screening test every 5 years with high-risk human papilloma virus (PV) test alone', 'It is recommended to have a screening stool test every 2 years: the high senzitivity guaiac fecal occult blood test (gFOBT) or fecal immunochemical test (FIT)', 'It is recommended to have a mammography every 2 years']\n"
     ]
    }
   ],
   "source": [
    "df = pd.read_excel (r'patient_data.xlsx', sheet_name='Sheet1')\n",
    "raw_datas = df.values.tolist()\n",
    "print(raw_datas[0],raw_datas[1])\n",
    "\n",
    "features_list = list(df.to_dict().keys())[:-5] \n",
    "features_res_list = list(df.to_dict().keys())[-5:] \n",
    "print(\"features : \\n\", features_list)\n",
    "print(\"features res: \\n\", features_res_list)"
   ]
  },
  {
   "cell_type": "code",
   "execution_count": 24,
   "id": "7e17ff5c",
   "metadata": {},
   "outputs": [
    {
     "name": "stdout",
     "output_type": "stream",
     "text": [
      "[[0, 0, 0, 0, 0, 1, 0, 0, 0, 0, 0, 0, 0, 0, 0, 0, 0, 0, 0, 1, 0, 0, 0, 0, 0, 0, 0, 0, 0], [0, 0, 1, 0, 1, 0, 1, 1, 0, 0, 1, 1, 1, 0, 0, 0, 1, 0, 1, 0, 1, 1, 0, 0, 1, 1, 1, 0, 0], [0, 0, 1, 0, 1, 0, 1, 1, 0, 0, 1, 1, 1, 0, 0, 0, 1, 0, 1, 0, 1, 1, 0, 0, 1, 1, 1, 0, 0], [1, 0, 1, 1, 0, 0, 0, 0, 1, 0, 0, 0, 0, 0, 1, 0, 1, 1, 0, 0, 0, 0, 1, 0, 0, 0, 0, 0, 0], [0, 0, 1, 0, 0, 0, 0, 0, 0, 0, 0, 0, 0, 0, 0, 0, 1, 0, 0, 0, 0, 0, 0, 0, 0, 0, 0, 0, 0]]\n"
     ]
    }
   ],
   "source": [
    "X=[]\n",
    "y=[]\n",
    "y_element1 = []\n",
    "y_element2 = []\n",
    "y_element3 = []\n",
    "y_element4 = []\n",
    "y_element5 = []\n",
    "\n",
    "poss_list = {}\n",
    "cnt_list = [0]*len(raw_datas[0])\n",
    "\n",
    "for j in range(len(raw_datas)):\n",
    "    X_element = []\n",
    "    \n",
    "    for i in range(len(raw_datas[0])):\n",
    "           \n",
    "        if (i<=len(raw_datas[0])-6):\n",
    "            ##on est dans les features\n",
    "            if (raw_datas[j][i] in poss_list.keys()) :\n",
    "                X_element.append(poss_list.get(raw_datas[j][i]))\n",
    "            else :\n",
    "                \n",
    "                poss_list[raw_datas[j][i]]=cnt_list[i]\n",
    "                X_element.append(cnt_list[i])\n",
    "                cnt_list[i]+=1\n",
    "                \n",
    "        elif (i==len(raw_datas[0])-1) :\n",
    "            if (raw_datas[j][i]=='Y') :\n",
    "            \n",
    "                y_element5.append(1)\n",
    "            else :\n",
    "                ##par défaut si on a pas de réponse je met 0 comme pour 'N'\n",
    "                y_element5.append(0)\n",
    "        elif (i==len(raw_datas[0])-2) :\n",
    "            if (raw_datas[j][i]=='Y') :\n",
    "            \n",
    "                y_element4.append(1)\n",
    "            else :\n",
    "                ##par défaut si on a pas de réponse je met 0 comme pour 'N'\n",
    "                y_element4.append(0)\n",
    "        elif (i==len(raw_datas[0])-3) :\n",
    "            if (raw_datas[j][i]=='Y') :\n",
    "            \n",
    "                y_element3.append(1)\n",
    "            else :\n",
    "                ##par défaut si on a pas de réponse je met 0 comme pour 'N'\n",
    "                y_element3.append(0)\n",
    "        elif (i==len(raw_datas[0])-4) :\n",
    "            if (raw_datas[j][i]=='Y') :\n",
    "            \n",
    "                y_element2.append(1)\n",
    "            else :\n",
    "                ##par défaut si on a pas de réponse je met 0 comme pour 'N'\n",
    "                y_element2.append(0)\n",
    "        elif (i==len(raw_datas[0])-5) :\n",
    "            if (raw_datas[j][i]=='Y') :\n",
    "            \n",
    "                y_element1.append(1)\n",
    "            else :\n",
    "                ##par défaut si on a pas de réponse je met 0 comme pour 'N'\n",
    "                y_element1.append(0)\n",
    "        \n",
    "    \n",
    "    X.append(X_element)   \n",
    "\n",
    "y.append(y_element1)  \n",
    "y.append(y_element2)\n",
    "y.append(y_element3)\n",
    "y.append(y_element4)\n",
    "y.append(y_element5)\n",
    "#print(X,y)\n",
    "\n",
    "print(y)"
   ]
  },
  {
   "cell_type": "code",
   "execution_count": 26,
   "id": "53101108",
   "metadata": {},
   "outputs": [
    {
     "name": "stdout",
     "output_type": "stream",
     "text": [
      "y test :  [0, 0, 0, 0, 0, 1] ,y pred :  [0, 0, 0, 0, 1, 1] [-0.05903567  0.16834917 -0.31702818 -0.02731334  0.91982975  0.58050747]\n"
     ]
    },
    {
     "data": {
      "text/plain": [
       "Text(0.5, 1.0, 'It is recommended to have a screening test for cervical (uterin) cancer every 3 years with cervical cytology test ')"
      ]
     },
     "execution_count": 26,
     "metadata": {},
     "output_type": "execute_result"
    },
    {
     "data": {
      "image/png": "[encoded data removed]",
      "text/plain": [
       "<Figure size 432x288 with 1 Axes>"
      ]
     },
     "metadata": {
      "needs_background": "light"
     },
     "output_type": "display_data"
    }
   ],
   "source": [
    "\n",
    "X_train, X_test, y_train, y_test = train_test_split(X, y[0],random_state=1, test_size = 0.20)\n",
    "\n",
    "mlp = MLPRegressor()\n",
    "mlp.fit(X_train, y_train)\n",
    "y_predict = mlp.predict(X_test)\n",
    "\n",
    "# Plot the results\n",
    "num_samples_to_plot = 20\n",
    "plt.plot(y_test[0:num_samples_to_plot], 'ro', label='y')\n",
    "plt.plot(y_predict[0:num_samples_to_plot], 'bx', label='$\\hat{y}$')\n",
    "plt.legend()\n",
    "print(\"y test : \",y_test, \",y pred : \", analyseRes(y_predict), y_predict)\n",
    "plt.xlabel(\"Examples\")\n",
    "plt.ylabel(\"f(examples)\")\n",
    "plt.title (\"It is recommended to have a screening test for cervical (uterin) cancer every 3 years with cervical cytology test \")\n",
    "\n"
   ]
  },
  {
   "cell_type": "code",
   "execution_count": 27,
   "id": "0021e522",
   "metadata": {},
   "outputs": [
    {
     "name": "stdout",
     "output_type": "stream",
     "text": [
      "y test :  [0, 1, 1, 1, 1, 0] ,y pred :  [0, 1, 1, 1, 1, 0] [-0.05197046  0.86149717  0.97674871  1.09625245  0.97048909  0.24869213]\n"
     ]
    },
    {
     "data": {
      "text/plain": [
       "Text(0.5, 1.0, 'It is recommended to have a screening test every 3 years wit cervical cytology test alone')"
      ]
     },
     "execution_count": 27,
     "metadata": {},
     "output_type": "execute_result"
    },
    {
     "data": {
      "image/png": "[encoded data removed]",
      "text/plain": [
       "<Figure size 432x288 with 1 Axes>"
      ]
     },
     "metadata": {
      "needs_background": "light"
     },
     "output_type": "display_data"
    }
   ],
   "source": [
    "X_train, X_test, y_train, y_test = train_test_split(X, y[1],random_state=1, test_size = 0.20)\n",
    "\n",
    "mlp = MLPRegressor()\n",
    "mlp.fit(X_train, y_train)\n",
    "y_predict = mlp.predict(X_test)\n",
    "\n",
    "# Plot the results\n",
    "num_samples_to_plot = 20\n",
    "plt.plot(y_test[0:num_samples_to_plot], 'ro', label='y')\n",
    "plt.plot(y_predict[0:num_samples_to_plot], 'bx', label='$\\hat{y}$')\n",
    "plt.legend()\n",
    "print(\"y test : \",y_test, \",y pred : \", analyseRes(y_predict), y_predict)\n",
    "plt.xlabel(\"Examples\")\n",
    "plt.ylabel(\"f(examples)\")\n",
    "plt.title (\"It is recommended to have a screening test every 3 years wit cervical cytology test alone\")"
   ]
  },
  {
   "cell_type": "code",
   "execution_count": 28,
   "id": "8e213748",
   "metadata": {},
   "outputs": [
    {
     "name": "stdout",
     "output_type": "stream",
     "text": [
      "y test :  [0, 1, 1, 1, 1, 0] ,y pred :  [0, 1, 1, 1, 1, 0] [-0.0109414   0.8262221   0.99031655  1.07832032  0.90932431  0.40008537]\n"
     ]
    },
    {
     "data": {
      "text/plain": [
       "Text(0.5, 1.0, 'it is recommended to have a screening test every 5 years with high-risk human papilloma virus (PV) test alone')"
      ]
     },
     "execution_count": 28,
     "metadata": {},
     "output_type": "execute_result"
    },
    {
     "data": {
      "image/png": "[encoded data removed]",
      "text/plain": [
       "<Figure size 432x288 with 1 Axes>"
      ]
     },
     "metadata": {
      "needs_background": "light"
     },
     "output_type": "display_data"
    }
   ],
   "source": [
    "X_train, X_test, y_train, y_test = train_test_split(X, y[2],random_state=1, test_size = 0.20)\n",
    "\n",
    "mlp = MLPRegressor()\n",
    "mlp.fit(X_train, y_train)\n",
    "y_predict = mlp.predict(X_test)\n",
    "\n",
    "# Plot the results\n",
    "num_samples_to_plot = 20\n",
    "plt.plot(y_test[0:num_samples_to_plot], 'ro', label='y')\n",
    "plt.plot(y_predict[0:num_samples_to_plot], 'bx', label='$\\hat{y}$')\n",
    "plt.legend()\n",
    "print(\"y test : \",y_test, \",y pred : \", analyseRes(y_predict), y_predict)\n",
    "plt.xlabel(\"Examples\")\n",
    "plt.ylabel(\"f(examples)\")\n",
    "plt.title (\"it is recommended to have a screening test every 5 years with high-risk human papilloma virus (PV) test alone\")"
   ]
  },
  {
   "cell_type": "code",
   "execution_count": 29,
   "id": "1f067ad6",
   "metadata": {},
   "outputs": [
    {
     "name": "stdout",
     "output_type": "stream",
     "text": [
      "y test :  [1, 0, 0, 0, 0, 0] ,y pred :  [1, 0, 0, 0, 0, 0] [ 0.87759583 -0.03352246  0.00598718  0.21211072  0.00624578  0.05761163]\n"
     ]
    },
    {
     "data": {
      "text/plain": [
       "Text(0.5, 1.0, 'It is recommended to have a screening stool test every 2 years: the high senzitivity guaiac fecal occult blood test (gFOBT) or fecal immunochemical test (FIT)')"
      ]
     },
     "execution_count": 29,
     "metadata": {},
     "output_type": "execute_result"
    },
    {
     "data": {
      "image/png": "[encoded data removed]",
      "text/plain": [
       "<Figure size 432x288 with 1 Axes>"
      ]
     },
     "metadata": {
      "needs_background": "light"
     },
     "output_type": "display_data"
    }
   ],
   "source": [
    "X_train, X_test, y_train, y_test = train_test_split(X, y[3],random_state=1, test_size = 0.20)\n",
    "\n",
    "mlp = MLPRegressor()\n",
    "mlp.fit(X_train, y_train)\n",
    "y_predict = mlp.predict(X_test)\n",
    "\n",
    "# Plot the results\n",
    "num_samples_to_plot = 20\n",
    "plt.plot(y_test[0:num_samples_to_plot], 'ro', label='y')\n",
    "plt.plot(y_predict[0:num_samples_to_plot], 'bx', label='$\\hat{y}$')\n",
    "plt.legend()\n",
    "print(\"y test : \",y_test, \",y pred : \", analyseRes(y_predict), y_predict)\n",
    "plt.xlabel(\"Examples\")\n",
    "plt.ylabel(\"f(examples)\")\n",
    "plt.title (\"It is recommended to have a screening stool test every 2 years: the high senzitivity guaiac fecal occult blood test (gFOBT) or fecal immunochemical test (FIT)\")"
   ]
  },
  {
   "cell_type": "code",
   "execution_count": 30,
   "id": "004c9de7",
   "metadata": {},
   "outputs": [
    {
     "name": "stdout",
     "output_type": "stream",
     "text": [
      "y test :  [0, 0, 0, 0, 0, 0] ,y pred :  [0, 0, 0, 0, 0, 0] [ 0.10695269 -0.20672847  0.17068632  0.28931109  0.07179309 -0.10875633]\n"
     ]
    },
    {
     "data": {
      "text/plain": [
       "Text(0.5, 1.0, 'It is recommended to have a mammography every 2 years')"
      ]
     },
     "execution_count": 30,
     "metadata": {},
     "output_type": "execute_result"
    },
    {
     "data": {
      "image/png": "[encoded data removed]",
      "text/plain": [
       "<Figure size 432x288 with 1 Axes>"
      ]
     },
     "metadata": {
      "needs_background": "light"
     },
     "output_type": "display_data"
    }
   ],
   "source": [
    "X_train, X_test, y_train, y_test = train_test_split(X, y[4],random_state=1, test_size = 0.20)\n",
    "\n",
    "mlp = MLPRegressor()\n",
    "mlp.fit(X_train, y_train)\n",
    "y_predict = mlp.predict(X_test)\n",
    "\n",
    "# Plot the results\n",
    "num_samples_to_plot = 20\n",
    "plt.plot(y_test[0:num_samples_to_plot], 'ro', label='y')\n",
    "plt.plot(y_predict[0:num_samples_to_plot], 'bx', label='$\\hat{y}$')\n",
    "plt.legend()\n",
    "print(\"y test : \",y_test, \",y pred : \", analyseRes(y_predict), y_predict)\n",
    "plt.xlabel(\"Examples\")\n",
    "plt.ylabel(\"f(examples)\")\n",
    "plt.title (\"It is recommended to have a mammography every 2 years\")"
   ]
  },
  {
   "cell_type": "code",
   "execution_count": null,
   "id": "4ea6531b",
   "metadata": {},
   "outputs": [],
   "source": []
  }
 ],
 "metadata": {
  "kernelspec": {
   "display_name": "Python 3 (ipykernel)",
   "language": "python",
   "name": "python3"
  },
  "language_info": {
   "codemirror_mode": {
    "name": "ipython",
    "version": 3
   },
   "file_extension": ".py",
   "mimetype": "text/x-python",
   "name": "python",
   "nbconvert_exporter": "python",
   "pygments_lexer": "ipython3",
   "version": "3.8.8"
  }
 },
 "nbformat": 4,
 "nbformat_minor": 5
}
